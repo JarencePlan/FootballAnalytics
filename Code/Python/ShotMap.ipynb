{
 "cells": [
  {
   "cell_type": "code",
   "execution_count": 1,
   "id": "f5c92d7e",
   "metadata": {},
   "outputs": [],
   "source": [
    "import pandas as pd\n",
    "import numpy as np\n",
    "import matplotlib.pyplot as plt\n",
    "import seaborn as sns\n",
    "import requests \n",
    "from bs4 import BeautifulSoup\n",
    "import json\n",
    "from pprint import pprint\n",
    "import matplotlib.image as mpimg\n",
    "import matplotlib.patches as patches\n",
    "from PIL import Image\n",
    "from io import BytesIO\n",
    "from highlight_text import htext\n",
    "import matplotlib as mpl\n",
    "from matplotlib.gridspec import GridSpec\n",
    "from mplsoccer.pitch import Pitch\n",
    "\n",
    "\n",
    "pd.set_option(\"display.max_rows\", None, \"display.max_columns\", None)\n",
    "background = \"#463F3A\"\n",
    "text_color = 'w'\n",
    "primary = '#C8102E'\n",
    "secondary = 'lightblue'\n",
    "mpl.rcParams['xtick.color'] = text_color\n",
    "mpl.rcParams['ytick.color'] = text_color"
   ]
  },
  {
   "cell_type": "code",
   "execution_count": 4,
   "id": "3e0cac35",
   "metadata": {},
   "outputs": [
    {
     "name": "stdout",
     "output_type": "stream",
     "text": [
      "Please enter the match id: 14885\n"
     ]
    }
   ],
   "source": [
    "base_url = 'https://understat.com/match/'\n",
    "match = str(input('Please enter the match id: '))\n",
    "url = base_url+match"
   ]
  },
  {
   "cell_type": "code",
   "execution_count": 5,
   "id": "82f42eae",
   "metadata": {},
   "outputs": [],
   "source": [
    "res = requests.get(url)\n",
    "soup = BeautifulSoup(res.content, \"lxml\")\n",
    "scripts = soup.find_all('script')\n",
    "\n",
    "string_with_json_obj = '' \n",
    "# Find data for teams \n",
    "for el in scripts: \n",
    "    if 'shotsData' in el.text: \n",
    "        string_with_json_obj = el.text.strip()\n",
    "#print(string_with_json_obj)\n",
    "\n",
    "# strip unnecessary symbols and get only JSON data \n",
    "ind_start = string_with_json_obj.index(\"('\")+2 \n",
    "ind_end = string_with_json_obj.index(\"')\") \n",
    "json_data = string_with_json_obj[ind_start:ind_end] \n",
    "json_data = json_data.encode('utf8').decode('unicode_escape')\n",
    "\n",
    "#convert string to json format\n",
    "data = json.loads(json_data) "
   ]
  },
  {
   "cell_type": "code",
   "execution_count": 6,
   "id": "17e6d1e0",
   "metadata": {},
   "outputs": [],
   "source": [
    "#Create Dataframe\n",
    "x_under = []\n",
    "y_under = []\n",
    "min_under = []\n",
    "result_under = []\n",
    "xG_under = []\n",
    "player_under = []\n",
    "team_under = []\n",
    "dataa = data['a']\n",
    "datah = data['h']\n",
    "names = ['x','y','minute','team','xG','player','result']\n",
    "\n",
    "for index in range(len(datah)):\n",
    "    for key in datah[index]:\n",
    "        if key == 'X':\n",
    "            x_under.append(datah[index][key])\n",
    "        if key == 'Y':\n",
    "            y_under.append(datah[index][key])\n",
    "        if key == 'minute':\n",
    "            min_under.append(datah[index][key])\n",
    "        if key == 'h_team':\n",
    "            team_under.append(datah[index][key])\n",
    "        if key == 'xG':\n",
    "            xG_under.append(datah[index][key])\n",
    "        if key == 'player':\n",
    "            player_under.append(datah[index][key])\n",
    "        if key == 'result':\n",
    "            result_under.append(datah[index][key])\n",
    "            \n",
    "for index in range(len(dataa)):\n",
    "    for key in dataa[index]:\n",
    "        if key == 'X':\n",
    "            x_under.append(1 - float(dataa[index][key]))\n",
    "        if key == 'Y':\n",
    "            y_under.append(1 - float(dataa[index][key]))\n",
    "        if key == 'minute':\n",
    "            min_under.append(dataa[index][key])\n",
    "        if key == 'a_team':\n",
    "            team_under.append(dataa[index][key])\n",
    "        if key == 'xG':\n",
    "            xG_under.append(dataa[index][key])\n",
    "        if key == 'player':\n",
    "            player_under.append(dataa[index][key])\n",
    "        if key == 'result':\n",
    "            result_under.append(dataa[index][key]) "
   ]
  },
  {
   "cell_type": "code",
   "execution_count": 11,
   "id": "9a63c645",
   "metadata": {},
   "outputs": [],
   "source": [
    "df2 = pd.DataFrame([x_under,y_under,min_under,team_under,xG_under,player_under,result_under],index=names)\n",
    "df2 = df2.T\n",
    "\n",
    "df2['x'] = pd.to_numeric(df2['x'])\n",
    "df2['y'] = pd.to_numeric(df2['y'])\n",
    "df2['xG'] = pd.to_numeric(df2['xG'])\n",
    "df2['minute'] = pd.to_numeric(df2['minute'])\n",
    "\n",
    "df2['x'] = df2['x']*100\n",
    "df2['y'] = df2['y']*100\n",
    "\n",
    "\n",
    "df2['xx'] = df2['y']\n",
    "df2['yy'] = df2['x']\n",
    "\n",
    "df2['x'] = df2['xx']\n",
    "df2['y'] = df2['yy']\n",
    "\n",
    "df2['x'] = df2['x']*.8\n",
    "df2['y'] = df2['y']*1.2\n",
    "\n",
    "hteam = df2['team'].iloc[0]\n",
    "ateam = df2['team'].iloc[-1]"
   ]
  },
  {
   "cell_type": "code",
   "execution_count": 12,
   "id": "ca98eb86",
   "metadata": {},
   "outputs": [],
   "source": [
    "a_xG = [0]\n",
    "h_xG = [0]\n",
    "a_min = [0]\n",
    "h_min = [0]\n",
    "\n",
    "for x in range(len(df2['xG'])):\n",
    "    if df2['team'][x] == ateam:\n",
    "        a_xG.append(df2['xG'][x])\n",
    "        a_min.append(df2['minute'][x])\n",
    "    if df2['team'][x] == hteam:\n",
    "        h_xG.append(df2['xG'][x])\n",
    "        h_min.append(df2['minute'][x])\n",
    "    \n",
    "def nums_cumulative_sum(nums_list):\n",
    "  return [sum(nums_list[:i+1]) for i in range(len(nums_list))]\n",
    "\n",
    "acum = nums_cumulative_sum(a_xG)\n",
    "hcum = nums_cumulative_sum(h_xG)\n",
    "alast = round(acum[-1],2)\n",
    "hlast = round(hcum[-1],2)"
   ]
  },
  {
   "cell_type": "code",
   "execution_count": 13,
   "id": "9779a9bd",
   "metadata": {},
   "outputs": [],
   "source": [
    "def plotShotMap():\n",
    "    for x in range(len(df2['x'])):\n",
    "        if df2['team'][x] == ateam:\n",
    "            if df2['result'][x] == 'Goal': \n",
    "                plt.scatter(df2['x'][x],df2['y'][x], color = '#74c69d',s=df2['xG'][x]*500,edgecolor='white',linewidth=2,alpha=.9)       \n",
    "            else:\n",
    "                plt.scatter(df2['x'][x],df2['y'][x], color = '#ff4d4d',s=df2['xG'][x]*500,edgecolor='white',alpha=.9)\n",
    "\n",
    "        if df2['team'][x] == hteam:\n",
    "            if df2['result'][x] == 'Goal': \n",
    "                plt.scatter(df2['x'][x],df2['y'][x], color = '#74c69d',s=df2['xG'][x]*100,edgecolor='white',linewidth=2,alpha=.9)\n",
    "            else:\n",
    "                plt.scatter(df2['x'][x],df2['y'][x], color = '#ff4d4d',s=df2['xG'][x]*100,edgecolor='white',marker='X',alpha=.9)"
   ]
  },
  {
   "cell_type": "code",
   "execution_count": 15,
   "id": "8ff9c436",
   "metadata": {},
   "outputs": [
    {
     "data": {
      "image/png": "[encoded data removed]",
      "text/plain": [
       "<Figure size 936x612 with 1 Axes>"
      ]
     },
     "metadata": {},
     "output_type": "display_data"
    }
   ],
   "source": [
    "fig, ax = plt.subplots(figsize=(13,8.5))\n",
    "fig.set_facecolor('#22312b')\n",
    "ax.patch.set_facecolor('#22312b')\n",
    "\n",
    "pitch = Pitch(pitch_type='statsbomb', orientation='vertical',\n",
    "              pitch_color='#22312b', line_color='#c7d5cc', figsize=(13, 8),\n",
    "              constrained_layout=False, tight_layout=True)\n",
    "\n",
    "pitch.draw(ax=ax)\n",
    "plt.gca().invert_yaxis()\n",
    "plt.gca().invert_xaxis()\n",
    "\n",
    "plt.ylim(0,60)\n",
    "\n",
    "\n",
    "plotShotMap()\n",
    "\n",
    "fig.text(.18,.1,\"@mckayjohns / data via understat.com\",fontstyle='italic',fontsize=11,fontfamily='Andale Mono',color=text_color)\n",
    "fig.text(.585,.1,'plot point size representative of XG',fontstyle='italic',fontsize=11,fontfamily='Andale Mono',color=text_color)\n",
    "\n",
    "plt.savefig('testshotmap.png',dpi=300,bbox_inches = 'tight',facecolor=background)\n"
   ]
  },
  {
   "cell_type": "code",
   "execution_count": null,
   "id": "47ecdde6",
   "metadata": {},
   "outputs": [],
   "source": []
  },
  {
   "cell_type": "code",
   "execution_count": null,
   "id": "cd35e383",
   "metadata": {},
   "outputs": [],
   "source": []
  },
  {
   "cell_type": "code",
   "execution_count": null,
   "id": "045c1349",
   "metadata": {},
   "outputs": [],
   "source": []
  },
  {
   "cell_type": "code",
   "execution_count": null,
   "id": "6400eb48",
   "metadata": {},
   "outputs": [],
   "source": []
  },
  {
   "cell_type": "code",
   "execution_count": null,
   "id": "c7a0a638",
   "metadata": {},
   "outputs": [],
   "source": []
  }
 ],
 "metadata": {
  "kernelspec": {
   "display_name": "Python 3 (ipykernel)",
   "language": "python",
   "name": "python3"
  },
  "language_info": {
   "codemirror_mode": {
    "name": "ipython",
    "version": 3
   },
   "file_extension": ".py",
   "mimetype": "text/x-python",
   "name": "python",
   "nbconvert_exporter": "python",
   "pygments_lexer": "ipython3",
   "version": "3.9.12"
  }
 },
 "nbformat": 4,
 "nbformat_minor": 5
}
